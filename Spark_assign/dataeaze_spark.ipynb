{
 "cells": [
  {
   "cell_type": "code",
   "execution_count": 1,
   "metadata": {},
   "outputs": [],
   "source": [
    "from pyspark.sql import SparkSession\n",
    "from pyspark.sql.functions import *\n",
    "\n",
    "spark = SparkSession.builder\\\n",
    "    .appName(\"dataeaze\")\\\n",
    "    .master(\"local[2]\")\\\n",
    "    .config(\"spark.sql.shuffle.partitions\", \"2\")\\\n",
    "    .getOrCreate()"
   ]
  },
  {
   "cell_type": "code",
   "execution_count": 2,
   "metadata": {},
   "outputs": [],
   "source": [
    "from pyspark.sql.types import StructField, StructType, StringType,LongType\n",
    "custom_schema = StructType([\n",
    "    StructField(\"Sr_No\", StringType(), True),\n",
    "    StructField(\"Date\", StringType(), True),\n",
    "    StructField(\"Startup_Name\", StringType(), True),\n",
    "    StructField(\"Industry_Vertical\", StringType(), True),\n",
    "    StructField(\"SubVertical\", StringType(), True),\n",
    "    StructField(\"City\", StringType(), True),\n",
    "    StructField(\"Investors_Name\", StringType(), True),\n",
    "    StructField(\"InvestmentnType\", StringType(), True),\n",
    "    StructField(\"Amount_in_USD\", LongType(), True),\n",
    "    StructField(\"Remarks\", StringType(), True),\n",
    "])"
   ]
  },
  {
   "cell_type": "code",
   "execution_count": 3,
   "metadata": {},
   "outputs": [
    {
     "name": "stdout",
     "output_type": "stream",
     "text": [
      "+-----+----------+------------+-----------------+-----------------------------------------------------------------------------+----------+-------------------------------------------------------------------------------------+-------------------+-------------+-------+\n",
      "|Sr_No|Date      |Startup_Name|Industry_Vertical|SubVertical                                                                  |City      |Investors_Name                                                                       |InvestmentnType    |Amount_in_USD|Remarks|\n",
      "+-----+----------+------------+-----------------+-----------------------------------------------------------------------------+----------+-------------------------------------------------------------------------------------+-------------------+-------------+-------+\n",
      "|152  |01/09/2018|Netmeds     |Consumer Internet|Online Pharmacy Chain                                                        |Chennai   |Sistema Asia Fund, Sistema JSFC and Tanncam Investment                               |Private Equity     |3,50,00,000  |nan    |\n",
      "|154  |03/09/2018|Daily hunt  |Consumer Internet|News and ebooks Mobile App\\\\xc2\\\\xa0                                         |Bengaluru |Falcon Edge                                                                          |Private Equity     |63,90,000    |nan    |\n",
      "|156  |04/09/2018|HappyGoEasy |Consumer Internet|Online Travel Agecy                                                          |Gurugram  |Korea Investment Partners (KIP), Samsung and China-based CITIC Capital and others    |Private Equity     |N/A          |nan    |\n",
      "|157  |05/09/2018|Nykaa       |Consumer Internet|Online Marketplace For Multi-brand Beauty Cosmetic and Wellness Products     |Mumbai    |Lighthouse                                                                           |Private Equity     |15,72,00,000 |nan    |\n",
      "|159  |06/09/2018|Dream11     |Consumer Internet|Online Gaming Platform                                                       |Mumbai    |Tencent, Kalaari Capital and Private equity firm Multiples Alternate Asset Management|Private Equity     |10,00,00,000 |nan    |\n",
      "|162  |11/09/2018|Pharmeasy   |Consumer Internet|Online Marketplace For Pharmaceutical Products                               |Mumbai    |InnoVen Capital                                                                      |Debt Funding       |55,00,000    |nan    |\n",
      "|167  |02/08/2018|Samosa Labs |Consumer Internet|Social Media and Chat Entertainment Platform                                 |Hyderabad |Xiaomi and Sequoia Capital India                                                     |Private Equity     |70,00,000    |nan    |\n",
      "|168  |03/08/2018|ZiffyHomes  |Consumer Internet|Online Home Rental Marketplace                                               |Gurugram  |Y Combinator                                                                         |Private Equity     |1,20,000     |nan    |\n",
      "|169  |07/08/2018|My OmNamo   |Consumer Internet|Holy Platform Offering Customised Puja Packages To Individuals and Corporates|Mumbai    |N/A                                                                                  |Seed/ Angel Funding|10,00,000    |nan    |\n",
      "|170  |07/08/2018|ShopX       |Consumer Internet|Assisted E-commerce Platform                                                 |Bengaluru |Fung Strategic Holdings                                                              |Private Equity     |3,50,00,000  |nan    |\n",
      "|171  |07/08/2018|MakeMyTrip  |Consumer Internet|Online Travel Aggregator                                                     |Gurugram  |MakeMyTrip Limited                                                                   |Private Equity     |1,00,00,000  |nan    |\n",
      "|172  |08/08/2018|Hansel io   |Consumer Internet|Real-time Mobile App Management                                              |Bengaluru |Vertex Ventures                                                                      |Seed/ Angel Funding|40,00,000    |nan    |\n",
      "|173  |08/08/2018|Metro Bikes |Consumer Internet|Online Bike Rental Marketplace                                               |Bengaluru |Sequoia Capital India Advisors, Accel Partners and G Raghunandan                     |Private Equity     |1,22,00,000  |nan    |\n",
      "|174  |08/08/2018|Phone Pe    |Consumer Internet|UPI Payments App                                                             |Bengaluru |Flipkart                                                                             |Private Equity     |6,60,00,000  |nan    |\n",
      "|177  |13/08/2018|Inthree     |Consumer Internet|Rural E-commerce Platform                                                    |Chennai   |Ventureast, Orios Venture Partners and the IAN Fund                                  |Seed/ Angel Funding|40,00,000    |nan    |\n",
      "|179  |16/08/2018|Enakshi     |Consumer Internet|AI Based Solutions Platform                                                  |Ahemadabad|N/A                                                                                  |Seed/ Angel Funding|1,14,811     |nan    |\n",
      "|180  |17/08/2018|EazyDiner   |Consumer Internet|Online Restaurant Table Reservation Platform                                 |Gurugram  |Denlow Investment Trust and Beenext                                                  |Private Equity     |58,50,000    |nan    |\n",
      "|182  |20/08/2018|RawPressery |Consumer Internet|Online Organic Juice Delivery Service                                        |Mumbai    |Alteria Capital                                                                      |Debt Funding       |48,00,000    |nan    |\n",
      "|184  |22/08/2018|Revv        |Consumer Internet|Online Indian Car Rental Platform                                            |Gurugram  |Hyundai, Edelweiss and Beenext, Dream Incubator, Sunjay Kapoor and Telama Investment |Private Equity     |1,42,70,000  |nan    |\n",
      "|185  |26/08/2018|ZestMoney   |Consumer Internet|Online Lending Platform                                                      |Bengaluru |Xiaomi,PayU, Ribbit Capital and Omidyar Network                                      |Private Equity     |1,34,00,000  |nan    |\n",
      "+-----+----------+------------+-----------------+-----------------------------------------------------------------------------+----------+-------------------------------------------------------------------------------------+-------------------+-------------+-------+\n",
      "only showing top 20 rows\n",
      "\n"
     ]
    }
   ],
   "source": [
    "df1 = spark.read.parquet(\"/home/sunbeam/Downloads/consumerInternet.parquet\")\n",
    "df1.show(truncate=False)"
   ]
  },
  {
   "cell_type": "code",
   "execution_count": 4,
   "metadata": {},
   "outputs": [],
   "source": [
    "# df1.repartition(1).write.format('com.databricks.spark.csv').save(\"consumerinternet.csv\",header = 'true')"
   ]
  },
  {
   "cell_type": "code",
   "execution_count": 5,
   "metadata": {},
   "outputs": [
    {
     "name": "stdout",
     "output_type": "stream",
     "text": [
      "+-----+----------+------------+-----------------+-----------------------------------------------------------------------------+----------+-------------------------------------------------------------------------------------+-------------------+-------------+-------+\n",
      "|Sr_No|Date      |Startup_Name|Industry_Vertical|SubVertical                                                                  |City      |Investors_Name                                                                       |InvestmentnType    |Amount_in_USD|Remarks|\n",
      "+-----+----------+------------+-----------------+-----------------------------------------------------------------------------+----------+-------------------------------------------------------------------------------------+-------------------+-------------+-------+\n",
      "|152  |01/09/2018|Netmeds     |Consumer Internet|Online Pharmacy Chain                                                        |Chennai   |Sistema Asia Fund, Sistema JSFC and Tanncam Investment                               |Private Equity     |3,50,00,000  |nan    |\n",
      "|154  |03/09/2018|Daily hunt  |Consumer Internet|News and ebooks Mobile App\\\\xc2\\\\xa0                                         |Bengaluru |Falcon Edge                                                                          |Private Equity     |63,90,000    |nan    |\n",
      "|156  |04/09/2018|HappyGoEasy |Consumer Internet|Online Travel Agecy                                                          |Gurugram  |Korea Investment Partners (KIP), Samsung and China-based CITIC Capital and others    |Private Equity     |N/A          |nan    |\n",
      "|157  |05/09/2018|Nykaa       |Consumer Internet|Online Marketplace For Multi-brand Beauty Cosmetic and Wellness Products     |Mumbai    |Lighthouse                                                                           |Private Equity     |15,72,00,000 |nan    |\n",
      "|159  |06/09/2018|Dream11     |Consumer Internet|Online Gaming Platform                                                       |Mumbai    |Tencent, Kalaari Capital and Private equity firm Multiples Alternate Asset Management|Private Equity     |10,00,00,000 |nan    |\n",
      "|162  |11/09/2018|Pharmeasy   |Consumer Internet|Online Marketplace For Pharmaceutical Products                               |Mumbai    |InnoVen Capital                                                                      |Debt Funding       |55,00,000    |nan    |\n",
      "|167  |02/08/2018|Samosa Labs |Consumer Internet|Social Media and Chat Entertainment Platform                                 |Hyderabad |Xiaomi and Sequoia Capital India                                                     |Private Equity     |70,00,000    |nan    |\n",
      "|168  |03/08/2018|ZiffyHomes  |Consumer Internet|Online Home Rental Marketplace                                               |Gurugram  |Y Combinator                                                                         |Private Equity     |1,20,000     |nan    |\n",
      "|169  |07/08/2018|My OmNamo   |Consumer Internet|Holy Platform Offering Customised Puja Packages To Individuals and Corporates|Mumbai    |N/A                                                                                  |Seed/ Angel Funding|10,00,000    |nan    |\n",
      "|170  |07/08/2018|ShopX       |Consumer Internet|Assisted E-commerce Platform                                                 |Bengaluru |Fung Strategic Holdings                                                              |Private Equity     |3,50,00,000  |nan    |\n",
      "|171  |07/08/2018|MakeMyTrip  |Consumer Internet|Online Travel Aggregator                                                     |Gurugram  |MakeMyTrip Limited                                                                   |Private Equity     |1,00,00,000  |nan    |\n",
      "|172  |08/08/2018|Hansel io   |Consumer Internet|Real-time Mobile App Management                                              |Bengaluru |Vertex Ventures                                                                      |Seed/ Angel Funding|40,00,000    |nan    |\n",
      "|173  |08/08/2018|Metro Bikes |Consumer Internet|Online Bike Rental Marketplace                                               |Bengaluru |Sequoia Capital India Advisors, Accel Partners and G Raghunandan                     |Private Equity     |1,22,00,000  |nan    |\n",
      "|174  |08/08/2018|Phone Pe    |Consumer Internet|UPI Payments App                                                             |Bengaluru |Flipkart                                                                             |Private Equity     |6,60,00,000  |nan    |\n",
      "|177  |13/08/2018|Inthree     |Consumer Internet|Rural E-commerce Platform                                                    |Chennai   |Ventureast, Orios Venture Partners and the IAN Fund                                  |Seed/ Angel Funding|40,00,000    |nan    |\n",
      "|179  |16/08/2018|Enakshi     |Consumer Internet|AI Based Solutions Platform                                                  |Ahemadabad|N/A                                                                                  |Seed/ Angel Funding|1,14,811     |nan    |\n",
      "|180  |17/08/2018|EazyDiner   |Consumer Internet|Online Restaurant Table Reservation Platform                                 |Gurugram  |Denlow Investment Trust and Beenext                                                  |Private Equity     |58,50,000    |nan    |\n",
      "|182  |20/08/2018|RawPressery |Consumer Internet|Online Organic Juice Delivery Service                                        |Mumbai    |Alteria Capital                                                                      |Debt Funding       |48,00,000    |nan    |\n",
      "|184  |22/08/2018|Revv        |Consumer Internet|Online Indian Car Rental Platform                                            |Gurugram  |Hyundai, Edelweiss and Beenext, Dream Incubator, Sunjay Kapoor and Telama Investment |Private Equity     |1,42,70,000  |nan    |\n",
      "|185  |26/08/2018|ZestMoney   |Consumer Internet|Online Lending Platform                                                      |Bengaluru |Xiaomi,PayU, Ribbit Capital and Omidyar Network                                      |Private Equity     |1,34,00,000  |nan    |\n",
      "+-----+----------+------------+-----------------+-----------------------------------------------------------------------------+----------+-------------------------------------------------------------------------------------+-------------------+-------------+-------+\n",
      "only showing top 20 rows\n",
      "\n"
     ]
    }
   ],
   "source": [
    "dfx= spark.read.csv(\"consumerinternet.csv\", header=True)\n",
    "dfx.show(truncate=False)"
   ]
  },
  {
   "cell_type": "code",
   "execution_count": 6,
   "metadata": {},
   "outputs": [
    {
     "name": "stdout",
     "output_type": "stream",
     "text": [
      "+-----+----------+----------------------------+----------------------------+----------------------------------------+-------------+--------------------------------------------------------------------------------------+--------------------+-------------+-------+\n",
      "|Sr_No|Date      |Startup_Name                |Industry_Vertical           |SubVertical                             |City         |Investors_Name                                                                        |InvestmentnType     |Amount_in_USD|Remarks|\n",
      "+-----+----------+----------------------------+----------------------------+----------------------------------------+-------------+--------------------------------------------------------------------------------------+--------------------+-------------+-------+\n",
      "|1    |09/01/2020|BYJU’S                      |E-Tech                      |E-learning                              |Bengaluru    |Tiger Global Management                                                               |Private Equity Round|20,00,00,000 |null   |\n",
      "|2    |13/01/2020|Shuttl                      |Transportation              |App based shuttle service               |Gurgaon      |Susquehanna Growth Equity                                                             |Series C            |80,48,394    |null   |\n",
      "|3    |09/01/2020|Mamaearth                   |E-commerce                  |Retailer of baby and toddler products   |Bengaluru    |Sequoia Capital India                                                                 |Series B            |1,83,58,860  |null   |\n",
      "|4    |02/01/2020|https://www.wealthbucket.in/|FinTech                     |Online Investment                       |New Delhi    |Vinod Khatumal                                                                        |Pre-series A        |30,00,000    |null   |\n",
      "|5    |02/01/2020|Fashor                      |Fashion and Apparel         |Embroiled Clothes For Women             |Mumbai       |Sprout Venture Partners                                                               |Seed Round          |18,00,000    |null   |\n",
      "|6    |13/01/2020|Pando                       |Logistics                   |Open-market, freight management platform|Chennai      |Chiratae Ventures                                                                     |Series A            |90,00,000    |null   |\n",
      "|7    |10/01/2020|Zomato                      |Hospitality                 |Online Food Delivery Platform           |Gurgaon      |Ant Financial                                                                         |Private Equity Round|15,00,00,000 |null   |\n",
      "|8    |12/12/2019|Ecozen                      |Technology                  |Agritech                                |Pune         |Sathguru Catalyzer Advisors                                                           |Series A            |60,00,000    |null   |\n",
      "|9    |06/12/2019|CarDekho                    |E-Commerce                  |Automobile                              |Gurgaon      |Ping An Global Voyager Fund                                                           |Series D            |7,00,00,000  |null   |\n",
      "|10   |03/12/2019|Dhruva Space                |Aerospace                   |Satellite Communication                 |Bengaluru    |Mumbai Angels, Ravikanth Reddy                                                        |Seed                |5,00,00,000  |null   |\n",
      "|11   |13/12/2019|Rivigo                      |Technology                  |Logistics Services and Solutions        |Gurgaon      |SAIF Partners, Spring Canter Investment Ltd.                                          |Series F            |2,00,00,000  |null   |\n",
      "|12   |17/12/2019|Healthians                  |B2B-focused foodtech startup|Food Solutions For Corporate            |Bengaluru    |Paytm, NPTK, Sabre Partners and Neoplux                                               |Series C            |1,20,00,000  |null   |\n",
      "|13   |16/12/2019|Licious                     |E-Commerce                  |Online Meat And Seafood Ordering Startup|Bengaluru    |Vertex Growth Fund                                                                    |Series E            |3,00,00,000  |null   |\n",
      "|14   |16/12/2019|InCred                      |Finance                     |Non-Banking Financial Company           |Mumbai       |null                                                                                  |Debt Funding        |59,00,000    |null   |\n",
      "|15   |14/12/2019|Trell                       |Video                       |Experience Discovery Platform           |Bengaluru    |Ruizheng Investment                                                                   |Seed Round          |20,00,000    |null   |\n",
      "|16   |11/12/2019|Rein Games                  |Gaming                      |Real money based gaming startup         |Noida        |Manipal Education and Medical Group (MEMG)                                            |Seed Round          |5,00,00,000  |null   |\n",
      "|17   |20/12/2019|Lenskart.com                |E-Commerce                  |Online Eyewear Shopping Portal          |Faridabad    |SoftBank Vision Fund                                                                  |Series G            |23,10,00,000 |null   |\n",
      "|18   |13/11/2019|Freshworks                  |Software                    |Business and customer engagement tools  |San Francisco|Sequoia, CapitalG, Accel                                                              |Series H            |15,00,00,000 |null   |\n",
      "|19   |14/11/2019|Misters                     |Health and wellness         |Men's Health and Wellness brand         |Gurgaon      |Sauce.vc, Rainforest Ventures                                                         |Series B            |4,86,000     |null   |\n",
      "|20   |13/11/2019|Sunstone Eduversity Pvt. Ltd|Education                   |Elearning                               |Gurgaon      |Prime Venture Partners, LetsVenture, PS1 Venture and GlobalLogic co-founder Rajul Garg|Seed                |15,00,000    |null   |\n",
      "+-----+----------+----------------------------+----------------------------+----------------------------------------+-------------+--------------------------------------------------------------------------------------+--------------------+-------------+-------+\n",
      "only showing top 20 rows\n",
      "\n"
     ]
    }
   ],
   "source": [
    "df2= spark.read.csv(\"/home/sunbeam/Downloads/startup.csv\", header=True)\n",
    "df2.show(truncate=False)"
   ]
  },
  {
   "cell_type": "code",
   "execution_count": 7,
   "metadata": {
    "scrolled": true
   },
   "outputs": [
    {
     "name": "stdout",
     "output_type": "stream",
     "text": [
      "+-----+----------+------------+-----------------+-----------------------------------------------------------------------------+----------+-------------------------------------------------------------------------------------+-------------------+-------------+-------+\n",
      "|Sr_No|Date      |Startup_Name|Industry_Vertical|SubVertical                                                                  |City      |Investors_Name                                                                       |InvestmentnType    |Amount_in_USD|Remarks|\n",
      "+-----+----------+------------+-----------------+-----------------------------------------------------------------------------+----------+-------------------------------------------------------------------------------------+-------------------+-------------+-------+\n",
      "|152  |01/09/2018|Netmeds     |Consumer Internet|Online Pharmacy Chain                                                        |Chennai   |Sistema Asia Fund, Sistema JSFC and Tanncam Investment                               |Private Equity     |3,50,00,000  |nan    |\n",
      "|154  |03/09/2018|Daily hunt  |Consumer Internet|News and ebooks Mobile App\\\\xc2\\\\xa0                                         |Bengaluru |Falcon Edge                                                                          |Private Equity     |63,90,000    |nan    |\n",
      "|156  |04/09/2018|HappyGoEasy |Consumer Internet|Online Travel Agecy                                                          |Gurugram  |Korea Investment Partners (KIP), Samsung and China-based CITIC Capital and others    |Private Equity     |N/A          |nan    |\n",
      "|157  |05/09/2018|Nykaa       |Consumer Internet|Online Marketplace For Multi-brand Beauty Cosmetic and Wellness Products     |Mumbai    |Lighthouse                                                                           |Private Equity     |15,72,00,000 |nan    |\n",
      "|159  |06/09/2018|Dream11     |Consumer Internet|Online Gaming Platform                                                       |Mumbai    |Tencent, Kalaari Capital and Private equity firm Multiples Alternate Asset Management|Private Equity     |10,00,00,000 |nan    |\n",
      "|162  |11/09/2018|Pharmeasy   |Consumer Internet|Online Marketplace For Pharmaceutical Products                               |Mumbai    |InnoVen Capital                                                                      |Debt Funding       |55,00,000    |nan    |\n",
      "|167  |02/08/2018|Samosa Labs |Consumer Internet|Social Media and Chat Entertainment Platform                                 |Hyderabad |Xiaomi and Sequoia Capital India                                                     |Private Equity     |70,00,000    |nan    |\n",
      "|168  |03/08/2018|ZiffyHomes  |Consumer Internet|Online Home Rental Marketplace                                               |Gurugram  |Y Combinator                                                                         |Private Equity     |1,20,000     |nan    |\n",
      "|169  |07/08/2018|My OmNamo   |Consumer Internet|Holy Platform Offering Customised Puja Packages To Individuals and Corporates|Mumbai    |N/A                                                                                  |Seed/ Angel Funding|10,00,000    |nan    |\n",
      "|170  |07/08/2018|ShopX       |Consumer Internet|Assisted E-commerce Platform                                                 |Bengaluru |Fung Strategic Holdings                                                              |Private Equity     |3,50,00,000  |nan    |\n",
      "|171  |07/08/2018|MakeMyTrip  |Consumer Internet|Online Travel Aggregator                                                     |Gurugram  |MakeMyTrip Limited                                                                   |Private Equity     |1,00,00,000  |nan    |\n",
      "|172  |08/08/2018|Hansel io   |Consumer Internet|Real-time Mobile App Management                                              |Bengaluru |Vertex Ventures                                                                      |Seed/ Angel Funding|40,00,000    |nan    |\n",
      "|173  |08/08/2018|Metro Bikes |Consumer Internet|Online Bike Rental Marketplace                                               |Bengaluru |Sequoia Capital India Advisors, Accel Partners and G Raghunandan                     |Private Equity     |1,22,00,000  |nan    |\n",
      "|174  |08/08/2018|Phone Pe    |Consumer Internet|UPI Payments App                                                             |Bengaluru |Flipkart                                                                             |Private Equity     |6,60,00,000  |nan    |\n",
      "|177  |13/08/2018|Inthree     |Consumer Internet|Rural E-commerce Platform                                                    |Chennai   |Ventureast, Orios Venture Partners and the IAN Fund                                  |Seed/ Angel Funding|40,00,000    |nan    |\n",
      "|179  |16/08/2018|Enakshi     |Consumer Internet|AI Based Solutions Platform                                                  |Ahemadabad|N/A                                                                                  |Seed/ Angel Funding|1,14,811     |nan    |\n",
      "|180  |17/08/2018|EazyDiner   |Consumer Internet|Online Restaurant Table Reservation Platform                                 |Gurugram  |Denlow Investment Trust and Beenext                                                  |Private Equity     |58,50,000    |nan    |\n",
      "|182  |20/08/2018|RawPressery |Consumer Internet|Online Organic Juice Delivery Service                                        |Mumbai    |Alteria Capital                                                                      |Debt Funding       |48,00,000    |nan    |\n",
      "|184  |22/08/2018|Revv        |Consumer Internet|Online Indian Car Rental Platform                                            |Gurugram  |Hyundai, Edelweiss and Beenext, Dream Incubator, Sunjay Kapoor and Telama Investment |Private Equity     |1,42,70,000  |nan    |\n",
      "|185  |26/08/2018|ZestMoney   |Consumer Internet|Online Lending Platform                                                      |Bengaluru |Xiaomi,PayU, Ribbit Capital and Omidyar Network                                      |Private Equity     |1,34,00,000  |nan    |\n",
      "+-----+----------+------------+-----------------+-----------------------------------------------------------------------------+----------+-------------------------------------------------------------------------------------+-------------------+-------------+-------+\n",
      "only showing top 20 rows\n",
      "\n"
     ]
    }
   ],
   "source": [
    "mergeddf = df1.union(df2)\n",
    "mergeddf.show(truncate=False)"
   ]
  },
  {
   "cell_type": "code",
   "execution_count": 8,
   "metadata": {},
   "outputs": [
    {
     "name": "stdout",
     "output_type": "stream",
     "text": [
      "root\n",
      " |-- Sr_No: string (nullable = true)\n",
      " |-- Date: string (nullable = true)\n",
      " |-- Startup_Name: string (nullable = true)\n",
      " |-- Industry_Vertical: string (nullable = true)\n",
      " |-- SubVertical: string (nullable = true)\n",
      " |-- City: string (nullable = true)\n",
      " |-- Investors_Name: string (nullable = true)\n",
      " |-- InvestmentnType: string (nullable = true)\n",
      " |-- Amount_in_USD: string (nullable = true)\n",
      " |-- Remarks: string (nullable = true)\n",
      "\n"
     ]
    }
   ],
   "source": [
    "mergeddf.printSchema()"
   ]
  },
  {
   "cell_type": "code",
   "execution_count": 9,
   "metadata": {},
   "outputs": [
    {
     "name": "stdout",
     "output_type": "stream",
     "text": [
      "+----------------+\n",
      "|punestartupcount|\n",
      "+----------------+\n",
      "|             105|\n",
      "+----------------+\n",
      "\n"
     ]
    }
   ],
   "source": [
    "# How many startups are there in Pune City?\n",
    "mergeddf.createOrReplaceTempView(\"startups\")\n",
    "punestartupcount = spark.sql('''select count(*) punestartupcount from startups where City=\"Pune\"''')\n",
    "punestartupcount.show()"
   ]
  },
  {
   "cell_type": "code",
   "execution_count": 10,
   "metadata": {},
   "outputs": [
    {
     "name": "stdout",
     "output_type": "stream",
     "text": [
      "+--------------+\n",
      "|puneangelcount|\n",
      "+--------------+\n",
      "|             2|\n",
      "+--------------+\n",
      "\n"
     ]
    }
   ],
   "source": [
    "# How many startups in Pune got their Seed/ Angel Funding?\n",
    "puneangelcount = spark.sql('''select count(*) puneangelcount from startups where City = \"Pune\" and InvestmentnType = \"Seed/ Angel Funding\"''')\n",
    "puneangelcount.show()"
   ]
  },
  {
   "cell_type": "code",
   "execution_count": 17,
   "metadata": {},
   "outputs": [
    {
     "name": "stdout",
     "output_type": "stream",
     "text": [
      "+-------------+\n",
      "|totalpunefund|\n",
      "+-------------+\n",
      "| 5.1318382E11|\n",
      "+-------------+\n",
      "\n"
     ]
    }
   ],
   "source": [
    "# What is the total amount raised by startups in Pune City? Hint - use regex_replace to get rid of null\n",
    "totalpunefund = spark.sql('''select sum(regexp_replace(Amount_in_USD, '[^0-9]+', 0)) totalpunefund from startups where City=\"Pune\"''')\n",
    "totalpunefund.show()"
   ]
  },
  {
   "cell_type": "code",
   "execution_count": 19,
   "metadata": {},
   "outputs": [
    {
     "name": "stdout",
     "output_type": "stream",
     "text": [
      "+-----------------+---------+\n",
      "|Industry_Vertical|sup_count|\n",
      "+-----------------+---------+\n",
      "|Consumer Internet|      941|\n",
      "|       Technology|      478|\n",
      "|        eCommerce|      186|\n",
      "|              nan|      171|\n",
      "|       Healthcare|       70|\n",
      "+-----------------+---------+\n",
      "\n"
     ]
    }
   ],
   "source": [
    "# What are the top 5 Industry_Vertical which has the highest number of startups in India?\n",
    "topfiv = spark.sql('''select Industry_Vertical, count(Startup_Name) sup_count from startups group by Industry_Vertical order by sup_count desc limit 5''')\n",
    "topfiv.show()"
   ]
  },
  {
   "cell_type": "code",
   "execution_count": 20,
   "metadata": {},
   "outputs": [
    {
     "name": "stdout",
     "output_type": "stream",
     "text": [
      "+-------------+\n",
      "|Amount_in_USD|\n",
      "+-------------+\n",
      "|  3,50,00,000|\n",
      "|    63,90,000|\n",
      "|          N/A|\n",
      "| 15,72,00,000|\n",
      "| 10,00,00,000|\n",
      "+-------------+\n",
      "\n"
     ]
    }
   ],
   "source": [
    "# Find the top Investor(by amount) of each year.\n",
    "some = spark.sql('''select Amount_in_USD from startups limit 5''')\n",
    "some.show()"
   ]
  },
  {
   "cell_type": "code",
   "execution_count": 13,
   "metadata": {},
   "outputs": [],
   "source": [
    "# Find the top startup(by amount raised) from each city?\n",
    "topstartup = spark.sql('''select Amount_in_USD from startups where Amount_in_USD is not null limit 5''')\n",
    "topstartup.show()"
   ]
  },
  {
   "cell_type": "code",
   "execution_count": null,
   "metadata": {},
   "outputs": [],
   "source": [
    "# Which SubVertical had the highest growth(in number of startups) over the years?\n"
   ]
  },
  {
   "cell_type": "code",
   "execution_count": null,
   "metadata": {},
   "outputs": [],
   "source": [
    "# Which SubVertical had the highest growth(in funding) over the years?"
   ]
  }
 ],
 "metadata": {
  "kernelspec": {
   "display_name": "Python 3",
   "language": "python",
   "name": "python3"
  },
  "language_info": {
   "codemirror_mode": {
    "name": "ipython",
    "version": 3
   },
   "file_extension": ".py",
   "mimetype": "text/x-python",
   "name": "python",
   "nbconvert_exporter": "python",
   "pygments_lexer": "ipython3",
   "version": "3.6.12"
  }
 },
 "nbformat": 4,
 "nbformat_minor": 4
}
